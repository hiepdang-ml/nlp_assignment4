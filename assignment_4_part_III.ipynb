{
  "cells": [
    {
      "cell_type": "markdown",
      "metadata": {
        "colab_type": "text",
        "id": "view-in-github"
      },
      "source": [
        "<a href=\"https://colab.research.google.com/github/Natural-Language-Processing-YU/M3_Assignment/blob/main/scripts/m3_assignment_part_III.ipynb\" target=\"_parent\"><img src=\"https://colab.research.google.com/assets/colab-badge.svg\" alt=\"Open In Colab\"/></a>"
      ]
    },
    {
      "cell_type": "markdown",
      "metadata": {
        "id": "QD5ia2HsZpsC"
      },
      "source": [
        "# Part III\n",
        "Using the previous two tutorials, please answer the following using an encorder-decoder approach and an LSTM compared approach. \n",
        "\n",
        "Please create a transformer-based classifier for English name classification into male or female.\n",
        "\n",
        "There are several datasets for name for male or female classification. In subseuqent iterations, this could be expanded to included more classifications. \n",
        "\n",
        "Below is the source from NLTK, which only has male and female available but could be used for the purposes of this assignment. \n",
        "\n",
        "```\n",
        "names = nltk.corpus.names\n",
        "names.fileids()\n",
        "['female.txt', 'male.txt']\n",
        "male_names = names.words('male.txt')\n",
        "female_names = names.words('female.txt')\n",
        "[w for w in male_names if w in female_names]\n",
        "['Abbey', 'Abbie', 'Abby', 'Addie', 'Adrian', 'Adrien', 'Ajay', 'Alex', 'Alexis',\n",
        "'Alfie', 'Ali', 'Alix', 'Allie', 'Allyn', 'Andie', 'Andrea', 'Andy', 'Angel',\n",
        "'Angie', 'Ariel', 'Ashley', 'Aubrey', 'Augustine', 'Austin', 'Averil', ...]\n",
        "```"
      ]
    },
    {
      "cell_type": "code",
      "execution_count": 1,
      "metadata": {},
      "outputs": [],
      "source": [
        "from typing import List\n",
        "import pandas as pd\n",
        "\n",
        "import nltk\n",
        "from sklearn.metrics import accuracy_score, precision_score, recall_score, f1_score\n",
        "\n",
        "import torch\n",
        "from torch import nn\n",
        "from torch.nn import functional as F\n",
        "from torch.utils.data import Dataset, DataLoader, random_split\n",
        "from torch.optim import AdamW\n",
        "\n",
        "from tokenizers import CharBPETokenizer"
      ]
    },
    {
      "cell_type": "markdown",
      "metadata": {},
      "source": [
        "# Data Preparation:"
      ]
    },
    {
      "cell_type": "code",
      "execution_count": 2,
      "metadata": {},
      "outputs": [],
      "source": [
        "inputs = nltk.corpus.names\n",
        "inputs.fileids()\n",
        "male_names: List[str] = inputs.words('male.txt')\n",
        "female_names: List[str] = inputs.words('female.txt')"
      ]
    },
    {
      "cell_type": "markdown",
      "metadata": {},
      "source": [
        "# Model 1: Transformer-based Model (BERT)"
      ]
    },
    {
      "cell_type": "code",
      "execution_count": 3,
      "metadata": {},
      "outputs": [
        {
          "name": "stderr",
          "output_type": "stream",
          "text": [
            "/Users/hiepdang/katz/natural_language_processing/nlp_assignment4/.venv/lib/python3.11/site-packages/tqdm/auto.py:21: TqdmWarning: IProgress not found. Please update jupyter and ipywidgets. See https://ipywidgets.readthedocs.io/en/stable/user_install.html\n",
            "  from .autonotebook import tqdm as notebook_tqdm\n"
          ]
        }
      ],
      "source": [
        "from transformers import BertTokenizerFast, BertForSequenceClassification"
      ]
    },
    {
      "cell_type": "code",
      "execution_count": 4,
      "metadata": {},
      "outputs": [
        {
          "name": "stderr",
          "output_type": "stream",
          "text": [
            "Some weights of BertForSequenceClassification were not initialized from the model checkpoint at bert-base-uncased and are newly initialized: ['classifier.bias', 'classifier.weight']\n",
            "You should probably TRAIN this model on a down-stream task to be able to use it for predictions and inference.\n"
          ]
        }
      ],
      "source": [
        "# Preprocess the data\n",
        "labels = [0] * len(male_names) + [1] * len(female_names)\n",
        "inputs = male_names + female_names\n",
        "\n",
        "# Load pre-trained model and tokenizer\n",
        "tokenizer = BertTokenizerFast.from_pretrained('bert-base-uncased', do_lower_case=True)\n",
        "model = BertForSequenceClassification.from_pretrained('bert-base-uncased', num_labels=2)\n",
        "\n",
        "inputs = tokenizer(inputs, truncation=True, padding=True, max_length=128)"
      ]
    },
    {
      "cell_type": "markdown",
      "metadata": {},
      "source": [
        "Test the tokenizer by encoding my name:"
      ]
    },
    {
      "cell_type": "code",
      "execution_count": 5,
      "metadata": {},
      "outputs": [
        {
          "data": {
            "text/plain": [
              "{'input_ids': [101, 7632, 13699, 4907, 2290, 102], 'token_type_ids': [0, 0, 0, 0, 0, 0], 'attention_mask': [1, 1, 1, 1, 1, 1]}"
            ]
          },
          "execution_count": 5,
          "metadata": {},
          "output_type": "execute_result"
        }
      ],
      "source": [
        "tokenizer('hiep dang')"
      ]
    },
    {
      "cell_type": "markdown",
      "metadata": {},
      "source": [
        "Create the dataset:"
      ]
    },
    {
      "cell_type": "code",
      "execution_count": 6,
      "metadata": {},
      "outputs": [],
      "source": [
        "# Dataset\n",
        "class NameDataset(Dataset):\n",
        "    def __init__(self, inputs, labels):\n",
        "        self.inputs = inputs\n",
        "        self.labels = labels\n",
        "\n",
        "    def __getitem__(self, idx):\n",
        "        item = {key: torch.tensor(val[idx]) for key, val in self.inputs.items()}\n",
        "        item['labels'] = torch.tensor(self.labels[idx])\n",
        "        return item\n",
        "\n",
        "    def __len__(self):\n",
        "        return len(self.labels)"
      ]
    },
    {
      "cell_type": "code",
      "execution_count": 7,
      "metadata": {},
      "outputs": [],
      "source": [
        "dataset = NameDataset(inputs, labels)"
      ]
    },
    {
      "cell_type": "markdown",
      "metadata": {},
      "source": [
        "The first record of the dataset:"
      ]
    },
    {
      "cell_type": "code",
      "execution_count": 8,
      "metadata": {},
      "outputs": [
        {
          "data": {
            "text/plain": [
              "{'input_ids': tensor([  101,  9779, 14503,   102,     0,     0,     0]),\n",
              " 'token_type_ids': tensor([0, 0, 0, 0, 0, 0, 0]),\n",
              " 'attention_mask': tensor([1, 1, 1, 1, 0, 0, 0]),\n",
              " 'labels': tensor(0)}"
            ]
          },
          "execution_count": 8,
          "metadata": {},
          "output_type": "execute_result"
        }
      ],
      "source": [
        "dataset[0]"
      ]
    },
    {
      "cell_type": "markdown",
      "metadata": {},
      "source": [
        "Split the dataset into train, val, test sets:"
      ]
    },
    {
      "cell_type": "code",
      "execution_count": 9,
      "metadata": {},
      "outputs": [],
      "source": [
        "train_dataset, val_dataset, test_dataset = random_split(dataset, lengths=[0.8, 0.1, 0.1], generator=torch.Generator().manual_seed(1))"
      ]
    },
    {
      "cell_type": "code",
      "execution_count": 10,
      "metadata": {},
      "outputs": [],
      "source": [
        "train_dataloader = DataLoader(train_dataset, batch_size=32, shuffle=True)\n",
        "val_dataloader =  DataLoader(val_dataset, batch_size=32, shuffle=False)\n",
        "test_dataloader = DataLoader(test_dataset, batch_size=32, shuffle=False)"
      ]
    },
    {
      "cell_type": "markdown",
      "metadata": {},
      "source": [
        "### TRAINING:"
      ]
    },
    {
      "cell_type": "code",
      "execution_count": 11,
      "metadata": {},
      "outputs": [],
      "source": [
        "optimizer = AdamW(model.parameters(), lr=1e-5)"
      ]
    },
    {
      "cell_type": "code",
      "execution_count": 12,
      "metadata": {},
      "outputs": [
        {
          "name": "stdout",
          "output_type": "stream",
          "text": [
            "Training Loss: 0.36728109666450537\n",
            "Validation Accuracy: 0.8513853904282116\n",
            "Validation Precision: 0.8775933609958506\n",
            "Validation Recall: 0.8775933609958506\n",
            "Validation F1 Score: 0.8775933609958506\n",
            "End of Epoch 1\n",
            "-----------\n",
            "Training Loss: 0.2311578099264871\n",
            "Validation Accuracy: 0.8551637279596978\n",
            "Validation Precision: 0.8677354709418837\n",
            "Validation Recall: 0.8983402489626556\n",
            "Validation F1 Score: 0.8827726809378186\n",
            "End of Epoch 2\n",
            "-----------\n",
            "Training Loss: 0.1632817968276877\n",
            "Validation Accuracy: 0.8576826196473551\n",
            "Validation Precision: 0.8835758835758836\n",
            "Validation Recall: 0.8817427385892116\n",
            "Validation F1 Score: 0.8826583592938733\n",
            "End of Epoch 3\n",
            "-----------\n",
            "Training Loss: 0.1149537603618886\n",
            "Validation Accuracy: 0.8400503778337531\n",
            "Validation Precision: 0.8721174004192872\n",
            "Validation Recall: 0.8630705394190872\n",
            "Validation F1 Score: 0.867570385818561\n",
            "End of Epoch 4\n",
            "-----------\n",
            "Training Loss: 0.0914393299090765\n",
            "Validation Accuracy: 0.8425692695214105\n",
            "Validation Precision: 0.8742138364779874\n",
            "Validation Recall: 0.8651452282157677\n",
            "Validation F1 Score: 0.8696558915537018\n",
            "End of Epoch 5\n",
            "-----------\n"
          ]
        },
        {
          "data": {
            "text/plain": [
              "<Axes: >"
            ]
          },
          "execution_count": 12,
          "metadata": {},
          "output_type": "execute_result"
        },
        {
          "data": {
            "image/png": "[encoded data removed]",
            "text/plain": [
              "<Figure size 640x480 with 1 Axes>"
            ]
          },
          "metadata": {},
          "output_type": "display_data"
        }
      ],
      "source": [
        "records = {'train_loss': [], 'val_accuracy': [], 'val_precision': [], 'val_recall': [], 'val_f1': []}\n",
        "\n",
        "epochs = 5\n",
        "\n",
        "for epoch in range(epochs):\n",
        "\n",
        "    # TRAINING\n",
        "    train_loss = []\n",
        "\n",
        "    for batch in train_dataloader:\n",
        "        optimizer.zero_grad()\n",
        "        outputs = model(**batch)\n",
        "        loss = outputs.loss\n",
        "        loss.backward()\n",
        "        optimizer.step()\n",
        "        train_loss.append(loss.item())\n",
        "\n",
        "    avg_loss = sum(train_loss) / len(train_loss)\n",
        "    records['train_loss'].append(avg_loss)\n",
        "    print(f'Training Loss: {avg_loss}')\n",
        "\n",
        "    # VALIDATION\n",
        "    gt_labels = []\n",
        "    pred_labels = []\n",
        "    \n",
        "    with torch.no_grad():\n",
        "        for batch in val_dataloader:\n",
        "            outputs = model(**batch)\n",
        "            _, predicted = torch.max(outputs.logits, dim=1)\n",
        "            labels = batch['labels']\n",
        "            gt_labels.extend(labels.tolist())\n",
        "            pred_labels.extend(predicted.tolist())\n",
        "\n",
        "    val_accuracy = accuracy_score(y_true=gt_labels, y_pred=pred_labels)\n",
        "    val_precision = precision_score(y_true=gt_labels, y_pred=pred_labels)\n",
        "    val_recall = recall_score(y_true=gt_labels, y_pred=pred_labels)\n",
        "    val_f1 = f1_score(y_true=gt_labels, y_pred=pred_labels)\n",
        "\n",
        "    records['val_accuracy'].append(val_accuracy)\n",
        "    records['val_precision'].append(val_precision)\n",
        "    records['val_recall'].append(val_recall)\n",
        "    records['val_f1'].append(val_f1)\n",
        "\n",
        "    print(f'Validation Accuracy: {val_accuracy}')\n",
        "    print(f'Validation Precision: {val_precision}')\n",
        "    print(f'Validation Recall: {val_recall}')\n",
        "    print(f'Validation F1 Score: {val_f1}')\n",
        "    print(f'End of Epoch {epoch + 1}')\n",
        "    print(f'-----------')\n",
        "\n",
        "df = pd.DataFrame(records, index=range(1, epochs + 1, 1))\n",
        "df.plot()\n",
        "            "
      ]
    },
    {
      "cell_type": "markdown",
      "metadata": {},
      "source": [
        "### MODEL EVALUATION:"
      ]
    },
    {
      "cell_type": "code",
      "execution_count": 13,
      "metadata": {},
      "outputs": [
        {
          "name": "stdout",
          "output_type": "stream",
          "text": [
            "Test Accuracy: 0.8639798488664987\n",
            "Test Precision: 0.8977035490605428\n",
            "Test Recall: 0.8793456032719836\n",
            "Test F1 Score: 0.8884297520661157\n",
            "-----------\n"
          ]
        }
      ],
      "source": [
        "# EVALUATION\n",
        "gt_labels = []\n",
        "pred_labels = []\n",
        "\n",
        "with torch.no_grad():\n",
        "    for batch in test_dataloader:\n",
        "        outputs = model(**batch)\n",
        "        _, predicted = torch.max(outputs.logits, dim=1)\n",
        "        labels = batch['labels']\n",
        "        gt_labels.extend(labels.tolist())\n",
        "        pred_labels.extend(predicted.tolist())\n",
        "\n",
        "test_accuracy = accuracy_score(y_true=gt_labels, y_pred=pred_labels)\n",
        "test_precision = precision_score(y_true=gt_labels, y_pred=pred_labels)\n",
        "test_recall = recall_score(y_true=gt_labels, y_pred=pred_labels)\n",
        "test_f1 = f1_score(y_true=gt_labels, y_pred=pred_labels)\n",
        "\n",
        "print(f'Test Accuracy: {test_accuracy}')\n",
        "print(f'Test Precision: {test_precision}')\n",
        "print(f'Test Recall: {test_recall}')\n",
        "print(f'Test F1 Score: {test_f1}')\n",
        "print(f'-----------')\n"
      ]
    },
    {
      "cell_type": "markdown",
      "metadata": {},
      "source": [
        "# Model 2: LSTM"
      ]
    },
    {
      "cell_type": "code",
      "execution_count": 14,
      "metadata": {},
      "outputs": [
        {
          "name": "stdout",
          "output_type": "stream",
          "text": [
            "\n",
            "\n",
            "\n"
          ]
        }
      ],
      "source": [
        "# Prepare the raw data\n",
        "labels = [0] * len(male_names) + [1] * len(female_names)\n",
        "names = male_names + female_names\n",
        "\n",
        "# Train a CharBPETokenizer on names\n",
        "tokenizer = CharBPETokenizer()\n",
        "tokenizer.train_from_iterator(names)"
      ]
    },
    {
      "cell_type": "markdown",
      "metadata": {},
      "source": [
        "Test the tokenizer by encoding my name:"
      ]
    },
    {
      "cell_type": "code",
      "execution_count": 15,
      "metadata": {},
      "outputs": [
        {
          "data": {
            "text/plain": [
              "[10, 37, 33, 72, 303, 64]"
            ]
          },
          "execution_count": 15,
          "metadata": {},
          "output_type": "execute_result"
        }
      ],
      "source": [
        "tokenizer.encode('Hiep Dang').ids"
      ]
    },
    {
      "cell_type": "code",
      "execution_count": 16,
      "metadata": {},
      "outputs": [],
      "source": [
        "encoded_names = tokenizer.encode_batch(names)\n",
        "max_length = max([len(encoding.ids) for encoding in encoded_names])\n",
        "\n",
        "inputs = []\n",
        "for encoding in encoded_names:\n",
        "    inputs.append(encoding.ids + [0] * (max_length - len(encoding.ids)))"
      ]
    },
    {
      "cell_type": "markdown",
      "metadata": {},
      "source": [
        "First 5 encoded names:"
      ]
    },
    {
      "cell_type": "code",
      "execution_count": 17,
      "metadata": {},
      "outputs": [
        {
          "name": "stdout",
          "output_type": "stream",
          "text": [
            "[[3, 2072, 0, 0, 0, 0], [3, 83, 102, 0, 0, 0], [2518, 0, 0, 0, 0, 0], [1678, 0, 0, 0, 0, 0], [853, 618, 0, 0, 0, 0]]\n"
          ]
        }
      ],
      "source": [
        "print(inputs[:5])"
      ]
    },
    {
      "cell_type": "markdown",
      "metadata": {},
      "source": [
        "Create a Dataset:"
      ]
    },
    {
      "cell_type": "code",
      "execution_count": 18,
      "metadata": {},
      "outputs": [],
      "source": [
        "class NameDataset(Dataset):\n",
        "    def __init__(self, inputs, labels):\n",
        "        self.inputs = inputs\n",
        "        self.labels = labels\n",
        "\n",
        "    def __getitem__(self, idx):\n",
        "        return torch.tensor(self.inputs[idx]).unsqueeze(1).float(), torch.tensor(self.labels[idx]).long()\n",
        "\n",
        "    def __len__(self):\n",
        "        return len(self.labels)"
      ]
    },
    {
      "cell_type": "markdown",
      "metadata": {},
      "source": [
        "Split the dataset into train, val, test sets:"
      ]
    },
    {
      "cell_type": "code",
      "execution_count": 19,
      "metadata": {},
      "outputs": [],
      "source": [
        "dataset = NameDataset(inputs, labels)\n",
        "\n",
        "train_dataset, val_dataset, test_dataset = random_split(dataset, lengths=[0.8, 0.1, 0.1], generator=torch.Generator().manual_seed(1))"
      ]
    },
    {
      "cell_type": "code",
      "execution_count": 20,
      "metadata": {},
      "outputs": [],
      "source": [
        "train_dataloader = DataLoader(train_dataset, batch_size=32, shuffle=True)\n",
        "val_dataloader = DataLoader(val_dataset, batch_size=32, shuffle=False)\n",
        "test_dataloader = DataLoader(test_dataset, batch_size=32, shuffle=False)"
      ]
    },
    {
      "cell_type": "markdown",
      "metadata": {},
      "source": [
        "Define the model architecture:"
      ]
    },
    {
      "cell_type": "code",
      "execution_count": 21,
      "metadata": {},
      "outputs": [],
      "source": [
        "class LSTMClassifier(nn.Module):\n",
        "    def __init__(self, input_dim, hidden_dim, num_lstm_layers, output_dim):\n",
        "        super().__init__()\n",
        "        self.lstm = nn.LSTM(input_dim, hidden_dim, num_layers=num_lstm_layers, batch_first=True)\n",
        "        self.fc = nn.Linear(hidden_dim, output_dim)\n",
        "\n",
        "    def forward(self, x):\n",
        "        _, (hidden, _) = self.lstm(x)\n",
        "        output = self.fc(hidden[-1])\n",
        "        return output\n",
        "\n",
        "model = LSTMClassifier(input_dim=1, hidden_dim=512, num_lstm_layers=2, output_dim=2)\n"
      ]
    },
    {
      "cell_type": "markdown",
      "metadata": {},
      "source": [
        "### TRAINING:"
      ]
    },
    {
      "cell_type": "markdown",
      "metadata": {},
      "source": [
        "Define the optimizer:"
      ]
    },
    {
      "cell_type": "code",
      "execution_count": 22,
      "metadata": {},
      "outputs": [],
      "source": [
        "optimizer = AdamW(model.parameters())"
      ]
    },
    {
      "cell_type": "markdown",
      "metadata": {},
      "source": [
        "Run the training loop:"
      ]
    },
    {
      "cell_type": "code",
      "execution_count": 23,
      "metadata": {},
      "outputs": [
        {
          "name": "stdout",
          "output_type": "stream",
          "text": [
            "Training Loss: 0.32649302991790385\n",
            "Validation Accuracy: 0.6322418136020151\n",
            "Validation Precision: 0.6266666666666667\n",
            "Validation Recall: 0.975103734439834\n",
            "Validation F1 Score: 0.762987012987013\n",
            "End of Epoch 1\n",
            "-----------\n",
            "Training Loss: 0.32328076361112257\n",
            "Validation Accuracy: 0.6183879093198993\n",
            "Validation Precision: 0.6318114874815906\n",
            "Validation Recall: 0.8900414937759336\n",
            "Validation F1 Score: 0.7390180878552972\n",
            "End of Epoch 2\n",
            "-----------\n",
            "Training Loss: 0.318952362666178\n",
            "Validation Accuracy: 0.6272040302267002\n",
            "Validation Precision: 0.62109375\n",
            "Validation Recall: 0.9896265560165975\n",
            "Validation F1 Score: 0.7632\n",
            "End of Epoch 3\n",
            "-----------\n",
            "Training Loss: 0.3189138552950854\n",
            "Validation Accuracy: 0.6272040302267002\n",
            "Validation Precision: 0.6375739644970414\n",
            "Validation Recall: 0.8941908713692946\n",
            "Validation F1 Score: 0.7443868739205527\n",
            "End of Epoch 4\n",
            "-----------\n",
            "Training Loss: 0.31781995191645984\n",
            "Validation Accuracy: 0.6360201511335013\n",
            "Validation Precision: 0.6342141863699583\n",
            "Validation Recall: 0.946058091286307\n",
            "Validation F1 Score: 0.7593671940049959\n",
            "End of Epoch 5\n",
            "-----------\n"
          ]
        },
        {
          "data": {
            "text/plain": [
              "<Axes: >"
            ]
          },
          "execution_count": 23,
          "metadata": {},
          "output_type": "execute_result"
        },
        {
          "data": {
            "image/png": "[encoded data removed]",
            "text/plain": [
              "<Figure size 640x480 with 1 Axes>"
            ]
          },
          "metadata": {},
          "output_type": "display_data"
        }
      ],
      "source": [
        "records = {'train_loss': [], 'val_accuracy': [], 'val_precision': [], 'val_recall': [], 'val_f1': []}\n",
        "\n",
        "epochs = 5\n",
        "\n",
        "\n",
        "for epoch in range(epochs):\n",
        "\n",
        "    # TRAINING\n",
        "    train_loss = []\n",
        "    for batch in train_dataloader:\n",
        "        \n",
        "        optimizer.zero_grad()\n",
        "        inputs, labels = batch\n",
        "        outputs = model(inputs)\n",
        "        loss = F.cross_entropy(outputs, labels) * 0.5 # does not affect the optimization, just to have better plot\n",
        "        loss.backward()\n",
        "        train_loss.append(loss.item())\n",
        "        optimizer.step()\n",
        "\n",
        "    avg_loss = sum(train_loss) / len(train_loss)\n",
        "    records['train_loss'].append(avg_loss)\n",
        "    print(f'Training Loss: {avg_loss}')\n",
        "\n",
        "\n",
        "    # VALIDATION\n",
        "    gt_labels = []\n",
        "    pred_labels = []\n",
        "    \n",
        "    with torch.no_grad():\n",
        "        for batch in val_dataloader:\n",
        "            inputs, labels = batch\n",
        "            outputs = model(inputs)\n",
        "            _, predicted = torch.max(outputs, dim=1)\n",
        "            gt_labels.extend(labels.tolist())\n",
        "            pred_labels.extend(predicted.tolist())\n",
        "\n",
        "    val_accuracy = accuracy_score(y_true=gt_labels, y_pred=pred_labels)\n",
        "    val_precision = precision_score(y_true=gt_labels, y_pred=pred_labels)\n",
        "    val_recall = recall_score(y_true=gt_labels, y_pred=pred_labels)\n",
        "    val_f1 = f1_score(y_true=gt_labels, y_pred=pred_labels)\n",
        "\n",
        "    records['val_accuracy'].append(val_accuracy)\n",
        "    records['val_precision'].append(val_precision)\n",
        "    records['val_recall'].append(val_recall)\n",
        "    records['val_f1'].append(val_f1)\n",
        "\n",
        "    print(f'Validation Accuracy: {val_accuracy}')\n",
        "    print(f'Validation Precision: {val_precision}')\n",
        "    print(f'Validation Recall: {val_recall}')\n",
        "    print(f'Validation F1 Score: {val_f1}')\n",
        "    print(f'End of Epoch {epoch + 1}')\n",
        "    print(f'-----------')\n",
        "\n",
        "df = pd.DataFrame(records, index=range(1, epochs + 1, 1))\n",
        "df.plot()"
      ]
    },
    {
      "cell_type": "markdown",
      "metadata": {},
      "source": [
        "### MODEL EVALUATION:"
      ]
    },
    {
      "cell_type": "code",
      "execution_count": 24,
      "metadata": {},
      "outputs": [
        {
          "name": "stdout",
          "output_type": "stream",
          "text": [
            "Test Accuracy: 0.6360201511335013\n",
            "Test Precision: 0.6342141863699583\n",
            "Test Recall: 0.946058091286307\n",
            "Test F1 Score: 0.7593671940049959\n",
            "-----------\n"
          ]
        }
      ],
      "source": [
        "# EVALUATION\n",
        "gt_labels = []\n",
        "pred_labels = []\n",
        "\n",
        "with torch.no_grad():\n",
        "    for batch in val_dataloader:\n",
        "        inputs, labels = batch\n",
        "        outputs = model(inputs)\n",
        "        _, predicted = torch.max(outputs, dim=1)\n",
        "        gt_labels.extend(labels.tolist())\n",
        "        pred_labels.extend(predicted.tolist())\n",
        "\n",
        "val_accuracy = accuracy_score(y_true=gt_labels, y_pred=pred_labels)\n",
        "val_precision = precision_score(y_true=gt_labels, y_pred=pred_labels)\n",
        "val_recall = recall_score(y_true=gt_labels, y_pred=pred_labels)\n",
        "val_f1 = f1_score(y_true=gt_labels, y_pred=pred_labels)\n",
        "\n",
        "print(f'Test Accuracy: {val_accuracy}')\n",
        "print(f'Test Precision: {val_precision}')\n",
        "print(f'Test Recall: {val_recall}')\n",
        "print(f'Test F1 Score: {val_f1}')\n",
        "print(f'-----------')"
      ]
    },
    {
      "cell_type": "markdown",
      "metadata": {},
      "source": [
        "# Conclusion:\n",
        "#### Transformer (BERT) model far outperforms LSTM model\n",
        "\n",
        "---"
      ]
    },
    {
      "cell_type": "markdown",
      "metadata": {},
      "source": [
        "# References\n",
        "1. https://arxiv.org/pdf/2102.03692.pdf\n",
        "2. https://alvinntnu.github.io/NTNU_ENC2045_LECTURES/exercise/13-attention.html\n",
        "3. https://towardsdatascience.com/deep-learning-gender-from-name-lstm-recurrent-neural-networks-448d64553044\n",
        "4. https://www.nltk.org/book/ch02.html#sec-lexical-resources"
      ]
    }
  ],
  "metadata": {
    "colab": {
      "authorship_tag": "ABX9TyNfOtlff/PWjuBUckXySCDS",
      "collapsed_sections": [],
      "include_colab_link": true,
      "name": "m3_assignment_part_III.ipynb",
      "provenance": []
    },
    "kernelspec": {
      "display_name": "Python 3",
      "name": "python3"
    },
    "language_info": {
      "codemirror_mode": {
        "name": "ipython",
        "version": 3
      },
      "file_extension": ".py",
      "mimetype": "text/x-python",
      "name": "python",
      "nbconvert_exporter": "python",
      "pygments_lexer": "ipython3",
      "version": "3.11.3"
    }
  },
  "nbformat": 4,
  "nbformat_minor": 0
}
